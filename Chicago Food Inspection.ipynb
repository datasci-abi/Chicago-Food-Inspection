{
  "cells": [
    {
      "cell_type": "markdown",
      "metadata": {
        "deletable": false,
        "editable": false,
        "nbgrader": {
          "cell_type": "markdown",
          "checksum": "0925c669622f603e4025ce4d926d8384",
          "grade": false,
          "grade_id": "cell-f2b2468124042cfe",
          "locked": true,
          "schema_version": 3,
          "solution": false,
          "task": false
        },
        "id": "KPQRmPg7iA7Y"
      },
      "source": [
        "_BloomTech Data Science, Unit 2_\n",
        "\n",
        "---\n",
        "\n",
        "👇 **Do not change the code in this cell.** If you're working in Google Colab, you can run this cell to install `category_encoders` and `pdpbox`."
      ]
    },
    {
      "cell_type": "code",
      "execution_count": 2,
      "metadata": {
        "deletable": false,
        "editable": false,
        "nbgrader": {
          "cell_type": "code",
          "checksum": "6e84593629f1e735cc6423e463199480",
          "grade": false,
          "grade_id": "cell-656c869f2d287493",
          "locked": true,
          "schema_version": 3,
          "solution": false,
          "task": false
        },
        "id": "2rMotwZ_iA7d"
      },
      "outputs": [],
      "source": [
        "%%capture\n",
        "import sys\n",
        "\n",
        "if 'google.colab' in sys.modules:\n",
        "    !pip install category_encoders\n",
        "    !pip install matplotlib==3.7.1\n",
        "    !pip install pdpbox\n",
        "    !pip install scikit-learn==1.1.3\n",
        "    !pip install --upgrade pdpbox\n"
      ]
    },
    {
      "cell_type": "markdown",
      "metadata": {
        "deletable": false,
        "editable": false,
        "nbgrader": {
          "cell_type": "markdown",
          "checksum": "be6f7489d8b09d515eed676f06ac2d3b",
          "grade": false,
          "grade_id": "cell-dbdc2fe26ba31738",
          "locked": true,
          "schema_version": 3,
          "solution": false,
          "task": false
        },
        "id": "07DSjHYQiA7e"
      },
      "source": [
        "# Sprint Challenge: Predict Chicago Food Inspections 🍕\n",
        "\n",
        "In this challenge, you'll use data from the [Chicago Department of Public Health](https://www.chicago.gov/city/en/depts/cdph/provdrs/healthy_restaurants/svcs/food-protection-services.html) to build a model to predict whether a food establishment passed inspection or not.\n",
        "\n",
        "The purpose of this model is to help inspectors use their time more efficiently by identifying establishments that will likely fail inspection. In other words, this model should be able to predict whether an establishment will fail inspection *before* the inspector arrives at the establishment.\n",
        "\n",
        "# Directions\n",
        "\n",
        "This notebook contains 12 tasks, which cover the material we've learned in this sprint. Here's a summary:\n",
        "\n",
        "- **Task 1:** Importing data.\n",
        "- **Task 2:** Identifying data leakage.\n",
        "- **Task 3:** Writing a wrangle function.\n",
        "- **Task 4:** Splitting data into a feature matrix and target vector.\n",
        "- **Task 5:** Splitting data into training and validation sets.\n",
        "- **Task 6:** Establishing baseline accuracy.\n",
        "- **Task 7:** Building model with bagging predictor.\n",
        "- **Task 8:** Building model with boosting predictor.\n",
        "- **Task 9 (`stretch goal`):** Plotting ROC curves.\n",
        "- **Task 10:** Generating classification report.\n",
        "- **Task 11:** Calculating permutation importances.\n",
        "- **Task 12 (`stretch goal`):** Creating PDP interaction plot.\n",
        "\n",
        "For each task you should do the following:\n",
        "\n",
        "- Read the task instructions.\n",
        "- Write your code in the cell below the task. Delete the `raise NotImplementedError` before your start.\n",
        "- Run the testing cell below the task. If you get an error, read the error message and re-evaluate your code.\n",
        "\n",
        "**You should limit your code to the following libraries:**\n",
        "\n",
        "- `category_encoders`\n",
        "- `numpy`\n",
        "- `matplotlib`\n",
        "- `pandas`\n",
        "- `pdpbox`\n",
        "- `sklearn`\n",
        "- `xgboost`\n",
        "\n",
        "**A word of warning:** The virtual machine that will check your answers is small. So, where applicable, don't use huge values for `n_estimators` (`>100`) or `n_jobs` (keep at `-1`).\n",
        "\n",
        "If you'd like to import all your libraries at the start of your notebook, you can do so in the code block below 👇"
      ]
    },
    {
      "cell_type": "code",
      "execution_count": 3,
      "metadata": {
        "deletable": false,
        "nbgrader": {
          "cell_type": "code",
          "checksum": "313c53b0dc59a11bb7bfaefbf995fe2c",
          "grade": false,
          "grade_id": "cell-44be413734e30691",
          "locked": false,
          "schema_version": 3,
          "solution": true,
          "task": false
        },
        "id": "xRsVNALfiA7f"
      },
      "outputs": [],
      "source": [
        "# YOUR CODE HERE\n",
        "import pandas as pd\n",
        "import numpy as np\n",
        "import matplotlib.pyplot as plt\n",
        "import category_encoders as ce\n",
        "from sklearn.model_selection import train_test_split\n",
        "from sklearn.ensemble import RandomForestClassifier, GradientBoostingClassifier\n",
        "from sklearn.pipeline import Pipeline\n",
        "from sklearn.metrics import classification_report, roc_auc_score, roc_curve, accuracy_score, RocCurveDisplay\n",
        "import xgboost as xgb\n",
        "from pdpbox import pdp, info_plots\n",
        "from sklearn.impute import SimpleImputer\n",
        "from sklearn.preprocessing import StandardScaler\n",
        "from sklearn.ensemble import RandomForestClassifier\n",
        "from category_encoders import OrdinalEncoder\n",
        "from xgboost import XGBClassifier\n",
        "from sklearn.compose import ColumnTransformer\n",
        "from sklearn.inspection import permutation_importance, plot_partial_dependence\n",
        "\n"
      ]
    },
    {
      "cell_type": "markdown",
      "metadata": {
        "deletable": false,
        "editable": false,
        "nbgrader": {
          "cell_type": "markdown",
          "checksum": "48dd82293df0d9af1aa7efac7f7468fa",
          "grade": false,
          "grade_id": "cell-602d346d44303e87",
          "locked": true,
          "schema_version": 3,
          "solution": false,
          "task": false
        },
        "id": "7VD0a5YQiA7f"
      },
      "source": [
        "# I. Wrangle Data\n",
        "\n",
        "**Task 1:** Change the code below to import your dataset. Be sure to examine the columns carefully and determine if one of them should be set as the index."
      ]
    },
    {
      "cell_type": "code",
      "execution_count": 4,
      "metadata": {
        "deletable": false,
        "nbgrader": {
          "cell_type": "code",
          "checksum": "dafd956974169191567e3544c18186a5",
          "grade": false,
          "grade_id": "cell-8b9246d8d97a80ff",
          "locked": false,
          "schema_version": 3,
          "solution": true,
          "task": false
        },
        "colab": {
          "base_uri": "https://localhost:8080/"
        },
        "collapsed": true,
        "id": "_nIJo-QtiA7g",
        "outputId": "797e17c0-f450-4e9f-9a8e-218eec8a6bae"
      },
      "outputs": [
        {
          "output_type": "stream",
          "name": "stdout",
          "text": [
            "                                              DBA Name  \\\n",
            "Inspection Date                                          \n",
            "2017-09-15                 TOM YUM RICE & NOODLE, INC.   \n",
            "2011-10-20       FILLING STATION  & CONVENIENCE  STORE   \n",
            "2016-04-05                                    A P DELI   \n",
            "2016-04-29                FRANK'S CHICAGO SHRIMP HOUSE   \n",
            "2011-01-10                                     MORRILL   \n",
            "\n",
            "                                              AKA Name  License #  \\\n",
            "Inspection Date                                                     \n",
            "2017-09-15                                TOM YUM CAFE  2354911.0   \n",
            "2011-10-20       FILLING STATION  & CONVENIENCE  STORE  1044901.0   \n",
            "2016-04-05                                    A P DELI    47405.0   \n",
            "2016-04-29                FRANK'S CHICAGO SHRIMP HOUSE     6414.0   \n",
            "2011-01-10                                     MORRILL    24571.0   \n",
            "\n",
            "                 Facility Type             Risk                       Address  \\\n",
            "Inspection Date                                                                 \n",
            "2017-09-15          Restaurant    Risk 1 (High)                  608 W BARRY    \n",
            "2011-10-20       Grocery Store     Risk 3 (Low)      6646-6658 S WESTERN AVE    \n",
            "2016-04-05          Restaurant    Risk 1 (High)               2025 E 75TH ST    \n",
            "2016-04-29          Restaurant  Risk 2 (Medium)            4459 S ARCHER AVE    \n",
            "2011-01-10              School    Risk 1 (High)  6011 S Rockwell (2600W) AVE    \n",
            "\n",
            "                    City State      Zip          Inspection Type  \\\n",
            "Inspection Date                                                    \n",
            "2017-09-15       CHICAGO    IL  60657.0                  Canvass   \n",
            "2011-10-20       CHICAGO    IL  60636.0  Complaint Re-Inspection   \n",
            "2016-04-05       CHICAGO    IL  60649.0    Canvass Re-Inspection   \n",
            "2016-04-29       CHICAGO    IL  60632.0                  Canvass   \n",
            "2011-01-10       CHICAGO    IL  60629.0                  Canvass   \n",
            "\n",
            "                                                        Violations   Latitude  \\\n",
            "Inspection Date                                                                 \n",
            "2017-09-15       3. POTENTIALLY HAZARDOUS FOOD MEETS TEMPERATUR...  41.938007   \n",
            "2011-10-20       32. FOOD AND NON-FOOD CONTACT SURFACES PROPERL...  41.772402   \n",
            "2016-04-05       35. WALLS, CEILINGS, ATTACHED EQUIPMENT CONSTR...  41.758779   \n",
            "2016-04-29       38. VENTILATION: ROOMS AND EQUIPMENT VENTED AS...  41.812181   \n",
            "2011-01-10       34. FLOORS: CONSTRUCTED PER CODE, CLEANED, GOO...        NaN   \n",
            "\n",
            "                 Longitude                                           Location  \\\n",
            "Inspection Date                                                                 \n",
            "2017-09-15      -87.644755  {'longitude': '-87.6447545707008', 'latitude':...   \n",
            "2011-10-20      -87.683603  {'longitude': '-87.68360273081268', 'latitude'...   \n",
            "2016-04-05      -87.575054  {'longitude': '-87.57505446746121', 'latitude'...   \n",
            "2016-04-29      -87.707125  {'longitude': '-87.70712481334274', 'latitude'...   \n",
            "2011-01-10             NaN                                                NaN   \n",
            "\n",
            "                 Fail  Serious Violations Found  \n",
            "Inspection Date                                  \n",
            "2017-09-15          1                       2.0  \n",
            "2011-10-20          0                       0.0  \n",
            "2016-04-05          0                       0.0  \n",
            "2016-04-29          0                       0.0  \n",
            "2011-01-10          0                       0.0  \n",
            "<class 'pandas.core.frame.DataFrame'>\n",
            "DatetimeIndex: 51916 entries, 2017-09-15 to 2010-09-29\n",
            "Data columns (total 16 columns):\n",
            " #   Column                    Non-Null Count  Dtype  \n",
            "---  ------                    --------------  -----  \n",
            " 0   DBA Name                  51916 non-null  object \n",
            " 1   AKA Name                  51293 non-null  object \n",
            " 2   License #                 51911 non-null  float64\n",
            " 3   Facility Type             51692 non-null  object \n",
            " 4   Risk                      51904 non-null  object \n",
            " 5   Address                   51916 non-null  object \n",
            " 6   City                      51863 non-null  object \n",
            " 7   State                     51906 non-null  object \n",
            " 8   Zip                       51890 non-null  float64\n",
            " 9   Inspection Type           51915 non-null  object \n",
            " 10  Violations                42261 non-null  object \n",
            " 11  Latitude                  51718 non-null  float64\n",
            " 12  Longitude                 51718 non-null  float64\n",
            " 13  Location                  51718 non-null  object \n",
            " 14  Fail                      51916 non-null  int64  \n",
            " 15  Serious Violations Found  42261 non-null  float64\n",
            "dtypes: float64(5), int64(1), object(10)\n",
            "memory usage: 6.7+ MB\n",
            "None\n"
          ]
        }
      ],
      "source": [
        "'''T1. Import data file.'''\n",
        "url = 'https://drive.google.com/uc?export=download&id=1aUnQ4AJK4UtW8JL9zPyYUMtkjIgQpqKT'\n",
        "df = pd.read_csv(url, index_col='Inspection ID')\n",
        "# YOUR CODE HERE\n",
        "df['Inspection Date'] = pd.to_datetime(df['Inspection Date'])\n",
        "df.set_index('Inspection Date', inplace=True)\n",
        "df.index.name = 'Inspection Date'\n",
        "\n",
        "print(df.head())\n",
        "print(df.info())"
      ]
    },
    {
      "cell_type": "markdown",
      "metadata": {
        "deletable": false,
        "editable": false,
        "nbgrader": {
          "cell_type": "markdown",
          "checksum": "493ede874f1e2c163a74021a41d8775d",
          "grade": false,
          "grade_id": "cell-1b2eb047117d89ab",
          "locked": true,
          "schema_version": 3,
          "solution": false,
          "task": false
        },
        "id": "B_QW-_i7iA7g"
      },
      "source": [
        "**Task 1 Test**"
      ]
    },
    {
      "cell_type": "code",
      "execution_count": 5,
      "metadata": {
        "deletable": false,
        "editable": false,
        "nbgrader": {
          "cell_type": "code",
          "checksum": "0d68298cfa23877cd61b8ba487c19dc6",
          "grade": true,
          "grade_id": "cell-e9593d4f4ed7a9bb",
          "locked": true,
          "points": 1,
          "schema_version": 3,
          "solution": false,
          "task": false
        },
        "id": "MxtjwQ70iA7g"
      },
      "outputs": [],
      "source": [
        "'''T1 Test'''\n",
        "assert isinstance(df, pd.DataFrame), 'Have you created a DataFrame named `df`?'\n",
        "assert len(df) == 51916"
      ]
    },
    {
      "cell_type": "markdown",
      "metadata": {
        "deletable": false,
        "editable": false,
        "nbgrader": {
          "cell_type": "markdown",
          "checksum": "1ee62609b3bf18520406b3837f7843a6",
          "grade": false,
          "grade_id": "cell-9e90dce33ddd0506",
          "locked": true,
          "schema_version": 3,
          "solution": false,
          "task": false
        },
        "id": "cwzqCLahiA7h"
      },
      "source": [
        "**Task 2:** Given that this model is supposed to generate predictions *before* an inspection is conducted, identify the numerical feature that is an example of **data leakage.** Assign the column name to the variable `'leaky_col'`.\n",
        "\n",
        "**Remember:** Leakage is when your feature matrix includes columns that will not be available to your model at the time it make predictions.\n",
        "\n"
      ]
    },
    {
      "cell_type": "code",
      "execution_count": 6,
      "metadata": {
        "deletable": false,
        "nbgrader": {
          "cell_type": "code",
          "checksum": "27b878765c52a092c3c56791dde91d5d",
          "grade": false,
          "grade_id": "cell-ef24afc9168ad64f",
          "locked": false,
          "schema_version": 3,
          "solution": true,
          "task": false
        },
        "colab": {
          "base_uri": "https://localhost:8080/"
        },
        "id": "IQyHCpLIiA7h",
        "outputId": "acb7447f-1bed-4394-f186-3d902aef3dd2"
      },
      "outputs": [
        {
          "output_type": "stream",
          "name": "stdout",
          "text": [
            "Serious Violations Found\n"
          ]
        }
      ],
      "source": [
        "'''T2. Identify data leakage column.'''\n",
        "leaky_col = 'Serious Violations Found'\n",
        "# YOUR CODE HERE\n",
        "print(leaky_col)"
      ]
    },
    {
      "cell_type": "markdown",
      "metadata": {
        "deletable": false,
        "editable": false,
        "nbgrader": {
          "cell_type": "markdown",
          "checksum": "9874ad6b513dd2c2e409aa1d6610a65e",
          "grade": false,
          "grade_id": "cell-378fd448d54e6fc0",
          "locked": true,
          "schema_version": 3,
          "solution": false,
          "task": false
        },
        "id": "_JyUzxC8iA7i"
      },
      "source": [
        "**Task 2 Test**"
      ]
    },
    {
      "cell_type": "code",
      "execution_count": 7,
      "metadata": {
        "deletable": false,
        "editable": false,
        "nbgrader": {
          "cell_type": "code",
          "checksum": "5a57c6a47e502a421524daf29beb7941",
          "grade": true,
          "grade_id": "cell-8429f30efb2a7bf7",
          "locked": true,
          "points": 1,
          "schema_version": 3,
          "solution": false,
          "task": false
        },
        "id": "gav1IDhWiA7i"
      },
      "outputs": [],
      "source": [
        "'''T2 Test'''\n",
        "# This is a hidden test.\n",
        "# You'll see the result when you submit to Canvas.\n",
        "assert isinstance(leaky_col, str), '`leaky_col` should be type `str`.'"
      ]
    },
    {
      "cell_type": "markdown",
      "metadata": {
        "deletable": false,
        "editable": false,
        "nbgrader": {
          "cell_type": "markdown",
          "checksum": "b17eb5d6c465729f58b1739a11ea5b96",
          "grade": false,
          "grade_id": "cell-2f7298cea62c493e",
          "locked": true,
          "schema_version": 3,
          "solution": false,
          "task": false
        },
        "id": "AnUnicvYiA7j"
      },
      "source": [
        "**Task 3:** Add to the `wrangle` function below so that it does the following:\n",
        "\n",
        "- Removes the \"leaky\" column.\n",
        "- Removes high-cardinality categorical columns (more than `500` categories).\n",
        "- Removes categorical columns that have only one category.\n",
        "- Removes numerical columns that are unique identifiers for each observation, not features that would affect the target."
      ]
    },
    {
      "cell_type": "code",
      "execution_count": 10,
      "metadata": {
        "deletable": false,
        "nbgrader": {
          "cell_type": "code",
          "checksum": "40e1745bb407a170e1dec8221d37fc3c",
          "grade": false,
          "grade_id": "cell-d6fc5ee398afff4f",
          "locked": false,
          "schema_version": 3,
          "solution": true,
          "task": false
        },
        "colab": {
          "base_uri": "https://localhost:8080/"
        },
        "collapsed": true,
        "id": "1rlVuDk9iA7j",
        "outputId": "0230634d-28df-4873-fc73-5d8e664a4c40"
      },
      "outputs": [
        {
          "output_type": "stream",
          "name": "stdout",
          "text": [
            "                 Facility Type             Risk     City      Zip  \\\n",
            "Inspection Date                                                     \n",
            "2017-09-15          Restaurant    Risk 1 (High)  CHICAGO  60657.0   \n",
            "2011-10-20       Grocery Store     Risk 3 (Low)  CHICAGO  60636.0   \n",
            "2016-04-05          Restaurant    Risk 1 (High)  CHICAGO  60649.0   \n",
            "2016-04-29          Restaurant  Risk 2 (Medium)  CHICAGO  60632.0   \n",
            "2011-01-10              School    Risk 1 (High)  CHICAGO  60629.0   \n",
            "\n",
            "                         Inspection Type   Latitude  Longitude  Fail  \n",
            "Inspection Date                                                       \n",
            "2017-09-15                       Canvass  41.938007 -87.644755     1  \n",
            "2011-10-20       Complaint Re-Inspection  41.772402 -87.683603     0  \n",
            "2016-04-05         Canvass Re-Inspection  41.758779 -87.575054     0  \n",
            "2016-04-29                       Canvass  41.812181 -87.707125     0  \n",
            "2011-01-10                       Canvass        NaN        NaN     0  \n",
            "Index(['Facility Type', 'Risk', 'City', 'Zip', 'Inspection Type', 'Latitude',\n",
            "       'Longitude', 'Fail'],\n",
            "      dtype='object')\n"
          ]
        }
      ],
      "source": [
        "'''T3. Write wrangle function.'''\n",
        "def wrangle(df):\n",
        "    \"\"\"\n",
        "    Remove the 'leaky' column, high-cardinality categorical columns,\n",
        "    categorical columns with only one category, and numerical identifier columns.\n",
        "    \"\"\"\n",
        "    # Remove the 'leaky' column\n",
        "    df = df.drop(columns='Serious Violations Found')\n",
        "\n",
        "    # Identify high-cardinality categorical columns\n",
        "    high_cardinality_cols = [col for col in df.select_dtypes(include='object').columns if df[col].nunique() > 500]\n",
        "\n",
        "    # Identify categorical columns with only one category\n",
        "    single_category_cols = [col for col in df.select_dtypes(include='object').columns if df[col].nunique() == 1]\n",
        "\n",
        "    # Identify numerical identifier columns\n",
        "    numerical_id_cols = [col for col in df.select_dtypes(include='number').columns if df[col].nunique() == len(df)]\n",
        "\n",
        "    # Add specific columns to remove\n",
        "    cols_to_remove = high_cardinality_cols + single_category_cols + numerical_id_cols\n",
        "\n",
        "    # Ensure 'License #' and 'Inspection ID' are removed if present\n",
        "    cols_to_remove += [col for col in ['License #', 'Inspection ID'] if col in df.columns]\n",
        "\n",
        "    # Drop the identified columns\n",
        "    df = df.drop(columns=cols_to_remove)\n",
        "\n",
        "    return df\n",
        "\n",
        "# Apply the wrangle function to the DataFrame\n",
        "df = wrangle(df)\n",
        "\n",
        "# Display the first few rows to verify\n",
        "print(df.head())\n",
        "print(df.columns)\n"
      ]
    },
    {
      "cell_type": "markdown",
      "source": [],
      "metadata": {
        "id": "CTC-in9Hppsa"
      }
    },
    {
      "cell_type": "markdown",
      "metadata": {
        "deletable": false,
        "editable": false,
        "nbgrader": {
          "cell_type": "markdown",
          "checksum": "22afb4a381b73f41b02f83ca4a0102bd",
          "grade": false,
          "grade_id": "cell-7b5d539f39db8415",
          "locked": true,
          "schema_version": 3,
          "solution": false,
          "task": false
        },
        "id": "tEPyCIoRiA7j"
      },
      "source": [
        "**Task 3 Test**"
      ]
    },
    {
      "cell_type": "code",
      "execution_count": 11,
      "metadata": {
        "deletable": false,
        "editable": false,
        "nbgrader": {
          "cell_type": "code",
          "checksum": "05d5f964ad8d8bf468bd907abaa85213",
          "grade": true,
          "grade_id": "cell-49f495efb58bcd9f",
          "locked": true,
          "points": 1,
          "schema_version": 3,
          "solution": false,
          "task": false
        },
        "id": "AIJO9l0ViA7j"
      },
      "outputs": [],
      "source": [
        "'''T3 Test'''\n",
        "assert df.select_dtypes('object').nunique().max() < 500, 'Have you dropped the high-cardinality columns?'\n",
        "assert df.select_dtypes('object').nunique().min() > 1, 'Have you dropped the column with only one category?'"
      ]
    },
    {
      "cell_type": "markdown",
      "metadata": {
        "deletable": false,
        "editable": false,
        "nbgrader": {
          "cell_type": "markdown",
          "checksum": "f93a157b989f3327402d7b93a31bb595",
          "grade": false,
          "grade_id": "cell-aea953fa5337fc1f",
          "locked": true,
          "schema_version": 3,
          "solution": false,
          "task": false
        },
        "id": "sWOfrN8hiA7k"
      },
      "source": [
        "# II. Split Data\n",
        "\n",
        "**Task 4:** Split the DataFrame `df` into the feature matrix `X` and the target vector `y`. Your target is `'Fail'`."
      ]
    },
    {
      "cell_type": "code",
      "execution_count": 12,
      "metadata": {
        "deletable": false,
        "nbgrader": {
          "cell_type": "code",
          "checksum": "7bfd4151db9dd6615a624da2954138e8",
          "grade": false,
          "grade_id": "cell-b21b1c40f5478337",
          "locked": false,
          "schema_version": 3,
          "solution": true,
          "task": false
        },
        "id": "7XhozFj0iA7k"
      },
      "outputs": [],
      "source": [
        "'''T4. Split feature matrix and target vector.'''\n",
        "target = 'Fail'\n",
        "# YOUR CODE HERE\n",
        "X = df.drop(columns='Fail')\n",
        "y = df['Fail']"
      ]
    },
    {
      "cell_type": "markdown",
      "metadata": {
        "deletable": false,
        "editable": false,
        "nbgrader": {
          "cell_type": "markdown",
          "checksum": "2f00ae85d10438328017da8b01b77354",
          "grade": false,
          "grade_id": "cell-d9a64e5a6bd2a37d",
          "locked": true,
          "schema_version": 3,
          "solution": false,
          "task": false
        },
        "id": "xmkl6sTiiA7k"
      },
      "source": [
        "**Task 4 Test**"
      ]
    },
    {
      "cell_type": "code",
      "execution_count": 13,
      "metadata": {
        "deletable": false,
        "editable": false,
        "nbgrader": {
          "cell_type": "code",
          "checksum": "04db76e9023f0b61187af1e39513d377",
          "grade": true,
          "grade_id": "cell-a1d912e28c9f7522",
          "locked": true,
          "points": 1,
          "schema_version": 3,
          "solution": false,
          "task": false
        },
        "id": "fpluiqq5iA7l"
      },
      "outputs": [],
      "source": [
        "'''T4 Test'''\n",
        "assert y.shape == (51916,), '`y` either has the wrong number of rows, or is two-dimentional.'\n",
        "assert len(X) == 51916, '`X` has the wrong number of rows.'"
      ]
    },
    {
      "cell_type": "markdown",
      "metadata": {
        "deletable": false,
        "editable": false,
        "nbgrader": {
          "cell_type": "markdown",
          "checksum": "e719471298c6c418489a657a500b7d0e",
          "grade": false,
          "grade_id": "cell-b575fbda93b87f6a",
          "locked": true,
          "schema_version": 3,
          "solution": false,
          "task": false
        },
        "id": "CdB1dYNziA7l"
      },
      "source": [
        "**Task 5:** Split your dataset into training and validation sets.\n",
        "\n",
        "- Your training set (`X_train`, `y_train`) should contain inspections conducted before 2017.\n",
        "- Your validation set (`X_val`, `y_val`) should contain inspections conducted during or after 2017."
      ]
    },
    {
      "cell_type": "code",
      "execution_count": 14,
      "metadata": {
        "deletable": false,
        "nbgrader": {
          "cell_type": "code",
          "checksum": "f92b2b9f9460a17c987c23188e3c31b1",
          "grade": false,
          "grade_id": "cell-0bb47689fd4667ed",
          "locked": false,
          "schema_version": 3,
          "solution": true,
          "task": false
        },
        "colab": {
          "base_uri": "https://localhost:8080/"
        },
        "collapsed": true,
        "id": "r4fjUsIQiA7l",
        "outputId": "4826596e-5334-4073-b8ff-737673e388e4"
      },
      "outputs": [
        {
          "output_type": "stream",
          "name": "stdout",
          "text": [
            "                  Facility Type             Risk     City      Zip  \\\n",
            "Inspection Date                                                      \n",
            "2011-10-20        Grocery Store     Risk 3 (Low)  CHICAGO  60636.0   \n",
            "2016-04-05           Restaurant    Risk 1 (High)  CHICAGO  60649.0   \n",
            "2016-04-29           Restaurant  Risk 2 (Medium)  CHICAGO  60632.0   \n",
            "2011-01-10               School    Risk 1 (High)  CHICAGO  60629.0   \n",
            "2016-02-22       Long Term Care    Risk 1 (High)  CHICAGO  60614.0   \n",
            "\n",
            "                         Inspection Type   Latitude  Longitude  \n",
            "Inspection Date                                                 \n",
            "2011-10-20       Complaint Re-Inspection  41.772402 -87.683603  \n",
            "2016-04-05         Canvass Re-Inspection  41.758779 -87.575054  \n",
            "2016-04-29                       Canvass  41.812181 -87.707125  \n",
            "2011-01-10                       Canvass        NaN        NaN  \n",
            "2016-02-22                       Canvass  41.932632 -87.647973  \n",
            "Inspection Date\n",
            "2011-10-20    0\n",
            "2016-04-05    0\n",
            "2016-04-29    0\n",
            "2011-01-10    0\n",
            "2016-02-22    0\n",
            "Name: Fail, dtype: int64\n",
            "                Facility Type             Risk     City      Zip  \\\n",
            "Inspection Date                                                    \n",
            "2017-09-15         Restaurant    Risk 1 (High)  CHICAGO  60657.0   \n",
            "2017-01-12         Restaurant  Risk 2 (Medium)  CHICAGO  60606.0   \n",
            "2017-02-10             School    Risk 1 (High)  CHICAGO  60638.0   \n",
            "2017-08-01             Liquor     Risk 3 (Low)  CHICAGO  60610.0   \n",
            "2018-10-31         Restaurant    Risk 1 (High)  CHICAGO  60614.0   \n",
            "\n",
            "                       Inspection Type   Latitude  Longitude  \n",
            "Inspection Date                                               \n",
            "2017-09-15                     Canvass  41.938007 -87.644755  \n",
            "2017-01-12                     Canvass  41.878531 -87.639427  \n",
            "2017-02-10       Canvass Re-Inspection  41.799052 -87.758965  \n",
            "2017-08-01                     License  41.902312 -87.628497  \n",
            "2018-10-31                   Complaint  41.932864 -87.647246  \n",
            "Inspection Date\n",
            "2017-09-15    1\n",
            "2017-01-12    0\n",
            "2017-02-10    0\n",
            "2017-08-01    0\n",
            "2018-10-31    1\n",
            "Name: Fail, dtype: int64\n"
          ]
        }
      ],
      "source": [
        "'''T5. Split dataset into training and validation sets.'''\n",
        "# YOUR CODE HERE\n",
        "y = df['Fail']\n",
        "X = df.drop(columns='Fail')\n",
        "\n",
        "# Split based on the index, which is 'Inspection Date'\n",
        "train_mask = X.index < '2017-01-01'\n",
        "val_mask = X.index >= '2017-01-01'\n",
        "\n",
        "X_train = X[train_mask]\n",
        "y_train = y[train_mask]\n",
        "\n",
        "X_val = X[val_mask]\n",
        "y_val = y[val_mask]\n",
        "\n",
        "# Print the first few rows to verify\n",
        "print(X_train.head())\n",
        "print(y_train.head())\n",
        "print(X_val.head())\n",
        "print(y_val.head())"
      ]
    },
    {
      "cell_type": "markdown",
      "metadata": {
        "deletable": false,
        "editable": false,
        "nbgrader": {
          "cell_type": "markdown",
          "checksum": "60e77b85e7db0d0cb2522b8caa399e77",
          "grade": false,
          "grade_id": "cell-8517b2d477256843",
          "locked": true,
          "schema_version": 3,
          "solution": false,
          "task": false
        },
        "id": "UX4lOc-biA7m"
      },
      "source": [
        "**Task 5 Testing**"
      ]
    },
    {
      "cell_type": "code",
      "execution_count": 15,
      "metadata": {
        "deletable": false,
        "editable": false,
        "nbgrader": {
          "cell_type": "code",
          "checksum": "56e9e6ef918d3a662decf3f6d67dfd01",
          "grade": true,
          "grade_id": "cell-52cf3ef1934a4278",
          "locked": true,
          "points": 1,
          "schema_version": 3,
          "solution": false,
          "task": false
        },
        "id": "zWGw3sR9iA7m"
      },
      "outputs": [],
      "source": [
        "'''T5 Test'''\n",
        "assert len(X_train) == len(y_train) == 41827, 'Your training set has the wrong number of observations.'\n",
        "assert len(X_val) == len(y_val) == 10089, 'Your validation set has the wrong number of observations.'"
      ]
    },
    {
      "cell_type": "markdown",
      "metadata": {
        "deletable": false,
        "editable": false,
        "nbgrader": {
          "cell_type": "markdown",
          "checksum": "0641d242faca29af591ebea98bc88ed6",
          "grade": false,
          "grade_id": "cell-2e9a4c74f50ed0fc",
          "locked": true,
          "schema_version": 3,
          "solution": false,
          "task": false
        },
        "id": "ZD6t4OptiA7m"
      },
      "source": [
        "# III. Establish Baseline\n",
        "\n",
        "**Task 6:** Establish the baseline accuracy score for this classification problem using your training set. Save the score to the variable `baseline_acc`."
      ]
    },
    {
      "cell_type": "code",
      "execution_count": 16,
      "metadata": {
        "deletable": false,
        "nbgrader": {
          "cell_type": "code",
          "checksum": "b658c6901efe4fe564387be697265352",
          "grade": false,
          "grade_id": "cell-3d21cc97649be107",
          "locked": false,
          "schema_version": 3,
          "solution": true,
          "task": false
        },
        "colab": {
          "base_uri": "https://localhost:8080/"
        },
        "id": "1O0WscsZiA7m",
        "outputId": "4a66c77f-c037-42bc-905c-a1b9381f2d5a"
      },
      "outputs": [
        {
          "output_type": "stream",
          "name": "stdout",
          "text": [
            "Baseline Accuracy: 0.7506634470557295\n"
          ]
        }
      ],
      "source": [
        "'''T6. Establish baseline accuracy.'''\n",
        "# YOUR CODE HERE\n",
        "most_frequent_class = y_train.mode()[0]\n",
        "baseline_acc = (y_train == most_frequent_class).mean()\n",
        "\n",
        "# Display the baseline accuracy\n",
        "print(\"Baseline Accuracy:\", baseline_acc)"
      ]
    },
    {
      "cell_type": "markdown",
      "metadata": {
        "deletable": false,
        "editable": false,
        "nbgrader": {
          "cell_type": "markdown",
          "checksum": "6098c9452685d029c07b96f5295b5c1d",
          "grade": false,
          "grade_id": "cell-56d5801c8831c15b",
          "locked": true,
          "schema_version": 3,
          "solution": false,
          "task": false
        },
        "id": "84L8VAb7iA7o"
      },
      "source": [
        "**Task 6 Testing**"
      ]
    },
    {
      "cell_type": "code",
      "execution_count": 17,
      "metadata": {
        "deletable": false,
        "editable": false,
        "nbgrader": {
          "cell_type": "code",
          "checksum": "8527a8f2e79c09d69519059e56c54272",
          "grade": true,
          "grade_id": "cell-abdc4cbe95e9d1da",
          "locked": true,
          "points": 1,
          "schema_version": 3,
          "solution": false,
          "task": false
        },
        "id": "nMJu4dOFiA7p"
      },
      "outputs": [],
      "source": [
        "'''T6 Test'''\n",
        "assert isinstance(baseline_acc, float), '`baseline_acc` should be type float. Have you defined the variable?'\n",
        "assert 0.0 <= baseline_acc <= 1.0"
      ]
    },
    {
      "cell_type": "markdown",
      "metadata": {
        "deletable": false,
        "editable": false,
        "nbgrader": {
          "cell_type": "markdown",
          "checksum": "8a0f7eab56c05e92a441333652ccf6cf",
          "grade": false,
          "grade_id": "cell-7d68939c4eced62c",
          "locked": true,
          "schema_version": 3,
          "solution": false,
          "task": false
        },
        "id": "57jDFzYiiA7p"
      },
      "source": [
        "# IV. Build Model\n",
        "\n",
        "In this section, you want to answer the question: Which ensemble method performs better with this data — bagging or boosting?\n",
        "\n",
        "**Task 7:** Build a model that includes a bagging predictor (`RandomForest`). Your predictor should be part of a pipeline named `model_bag` that includes any transformers that you think are necessary."
      ]
    },
    {
      "cell_type": "code",
      "execution_count": 18,
      "metadata": {
        "deletable": false,
        "nbgrader": {
          "cell_type": "code",
          "checksum": "49a48b340c0ee7f9630c3ce57e4ca439",
          "grade": false,
          "grade_id": "cell-889285d53fdbe282",
          "locked": false,
          "schema_version": 3,
          "solution": true,
          "task": false
        },
        "colab": {
          "base_uri": "https://localhost:8080/"
        },
        "id": "YJpLPW1qiA7q",
        "outputId": "c10eb9a3-3e42-49bc-eec5-d0ca9da46fb6"
      },
      "outputs": [
        {
          "output_type": "stream",
          "name": "stdout",
          "text": [
            "Model with bagging predictor has been trained.\n"
          ]
        }
      ],
      "source": [
        "'''T7. Build model with bagging predictor.'''\n",
        "\n",
        "# YOUR CODE HERE\n",
        "numeric_features = X_train.select_dtypes(include=['int64', 'float64']).columns\n",
        "categorical_features = X_train.select_dtypes(include=['object']).columns\n",
        "\n",
        "numeric_transformer = SimpleImputer(strategy='median')\n",
        "categorical_transformer = Pipeline(steps=[\n",
        "    ('imputer', SimpleImputer(strategy='most_frequent')),\n",
        "    ('encoder', OrdinalEncoder())\n",
        "])\n",
        "\n",
        "preprocessor = ColumnTransformer(\n",
        "    transformers=[\n",
        "        ('num', numeric_transformer, numeric_features),\n",
        "        ('cat', categorical_transformer, categorical_features)\n",
        "    ])\n",
        "\n",
        "# Task 7: Build model with bagging predictor\n",
        "model_bag = Pipeline(steps=[\n",
        "    ('preprocessor', preprocessor),\n",
        "    ('classifier', RandomForestClassifier(random_state=42))\n",
        "])\n",
        "\n",
        "# Fit the model\n",
        "model_bag.fit(X_train, y_train)\n",
        "\n",
        "# Display a message to confirm the model has been trained\n",
        "print(\"Model with bagging predictor has been trained.\")"
      ]
    },
    {
      "cell_type": "markdown",
      "metadata": {
        "deletable": false,
        "editable": false,
        "nbgrader": {
          "cell_type": "markdown",
          "checksum": "81055fe5d87448fd8e4aff2ca4f10ea0",
          "grade": false,
          "grade_id": "cell-72dac6ede9a13038",
          "locked": true,
          "schema_version": 3,
          "solution": false,
          "task": false
        },
        "id": "HqHiKcpaiA7q"
      },
      "source": [
        "**Tast 7 Testing**"
      ]
    },
    {
      "cell_type": "code",
      "execution_count": 20,
      "metadata": {
        "deletable": false,
        "editable": false,
        "nbgrader": {
          "cell_type": "code",
          "checksum": "57725e1ca8a837d8fa761271f994ad44",
          "grade": true,
          "grade_id": "cell-cddc5d7d2170877b",
          "locked": true,
          "points": 1,
          "schema_version": 3,
          "solution": false,
          "task": false
        },
        "id": "2BcbWyvFiA7q"
      },
      "outputs": [],
      "source": [
        "'''T7 Testing'''\n",
        "from sklearn.pipeline import Pipeline\n",
        "from sklearn.ensemble import RandomForestClassifier\n",
        "assert isinstance(model_bag, Pipeline), '`model_bag` is the wrong data type. Have you assigned your pipeline to the correct variable name?'\n",
        "assert isinstance(model_bag[-1], RandomForestClassifier), 'Your predictor should be a `RandomForestClassifier`.'\n",
        "assert hasattr(model_bag[-1], 'feature_importances_'), 'Have you trained your model?'"
      ]
    },
    {
      "cell_type": "markdown",
      "metadata": {
        "deletable": false,
        "editable": false,
        "nbgrader": {
          "cell_type": "markdown",
          "checksum": "5e3c031075213c671f8f9b321585e9eb",
          "grade": false,
          "grade_id": "cell-d9750931390fe58f",
          "locked": true,
          "schema_version": 3,
          "solution": false,
          "task": false
        },
        "id": "zdikzMe7iA7s"
      },
      "source": [
        "**Task 8:** Build a model that includes a boosting predictor (`GradientBoostingClassifier` from `sklearn` or `XGBClassifier` from `xgboost`). Your predictor should be part of a pipeline named `model_boost` that includes any transformers that you think are necessary."
      ]
    },
    {
      "cell_type": "code",
      "execution_count": 21,
      "metadata": {
        "deletable": false,
        "nbgrader": {
          "cell_type": "code",
          "checksum": "a30d11fa6b0d4e143f4572b0baf65afb",
          "grade": false,
          "grade_id": "cell-37f16b5811ae5223",
          "locked": false,
          "schema_version": 3,
          "solution": true,
          "task": false
        },
        "colab": {
          "base_uri": "https://localhost:8080/"
        },
        "id": "JH7xITnBiA7s",
        "outputId": "af4889c8-e3b2-41a0-d5b1-034aefa6ea30"
      },
      "outputs": [
        {
          "output_type": "stream",
          "name": "stdout",
          "text": [
            "Model with bagging predictor has been trained.\n",
            "Model with boosting predictor has been trained.\n"
          ]
        }
      ],
      "source": [
        "'''T8. Build model with boosting predictor.'''\n",
        "# YOUR CODE HERE\n",
        "model_boost = Pipeline(steps=[\n",
        "    ('preprocessor', preprocessor),\n",
        "    ('classifier', XGBClassifier(random_state=42))\n",
        "])\n",
        "\n",
        "# Fit the boosting model\n",
        "model_boost.fit(X_train, y_train)\n",
        "\n",
        "# Display a message to confirm the models have been trained\n",
        "print(\"Model with bagging predictor has been trained.\")\n",
        "print(\"Model with boosting predictor has been trained.\")"
      ]
    },
    {
      "cell_type": "markdown",
      "metadata": {
        "deletable": false,
        "editable": false,
        "nbgrader": {
          "cell_type": "markdown",
          "checksum": "64d1c2ff5004fe02082dc204299e0e70",
          "grade": false,
          "grade_id": "cell-3699731f62fa5db3",
          "locked": true,
          "schema_version": 3,
          "solution": false,
          "task": false
        },
        "id": "wBX806iKiA7s"
      },
      "source": [
        "**Task 8 Testing**"
      ]
    },
    {
      "cell_type": "code",
      "execution_count": 22,
      "metadata": {
        "deletable": false,
        "editable": false,
        "nbgrader": {
          "cell_type": "code",
          "checksum": "35744289b60d1556e064bc09da544566",
          "grade": true,
          "grade_id": "cell-90deb42a1c052402",
          "locked": true,
          "points": 1,
          "schema_version": 3,
          "solution": false,
          "task": false
        },
        "id": "TTz3ehTsiA7s"
      },
      "outputs": [],
      "source": [
        "'''T8 Testing'''\n",
        "from xgboost import XGBClassifier\n",
        "from sklearn.ensemble import GradientBoostingClassifier\n",
        "assert isinstance(model_boost, Pipeline), '`model_boost` is the wrong data type. Have you assigned your pipeline to the correct variable name?'\n",
        "assert any([isinstance(model_boost[-1], XGBClassifier),\n",
        "            isinstance(model_boost[-1], GradientBoostingClassifier)]), 'Your predictor should be `XGBClassifier` or `GradientBoostingClassifier`.'"
      ]
    },
    {
      "cell_type": "markdown",
      "metadata": {
        "deletable": false,
        "editable": false,
        "nbgrader": {
          "cell_type": "markdown",
          "checksum": "ebed19854d947c07608d2cb6c356f7ec",
          "grade": false,
          "grade_id": "cell-dc041ac00c805cff",
          "locked": true,
          "schema_version": 3,
          "solution": false,
          "task": false
        },
        "id": "zlVMLlcaiA7t"
      },
      "source": [
        "# V. Check Metrics\n",
        "\n",
        "Here are the accuracy scores for your two models. Did you beat the baseline? Which of your two models appears to perform better on your validation set?"
      ]
    },
    {
      "cell_type": "code",
      "execution_count": 23,
      "metadata": {
        "deletable": false,
        "editable": false,
        "nbgrader": {
          "cell_type": "code",
          "checksum": "fc12491c98afa1dd0767422ce0a07b22",
          "grade": false,
          "grade_id": "cell-c0206a761fccab6c",
          "locked": true,
          "schema_version": 3,
          "solution": false,
          "task": false
        },
        "colab": {
          "base_uri": "https://localhost:8080/"
        },
        "id": "8q-QFN0DiA7t",
        "outputId": "1ea38171-a045-4df1-c713-ff3a25f8732b"
      },
      "outputs": [
        {
          "output_type": "stream",
          "name": "stdout",
          "text": [
            "Bagging Model\n",
            "Training accuracy: 0.9074521242259784\n",
            "Validation accuracy: 0.6813361086331648\n",
            "\n",
            "Boosting Model\n",
            "Training accuracy: 0.7867645300882206\n",
            "Validation accuracy: 0.7012587967092874\n"
          ]
        }
      ],
      "source": [
        "print('Bagging Model')\n",
        "print('Training accuracy:', model_bag.score(X_train, y_train))\n",
        "print('Validation accuracy:', model_bag.score(X_val, y_val))\n",
        "print()\n",
        "print('Boosting Model')\n",
        "print('Training accuracy:', model_boost.score(X_train, y_train))\n",
        "print('Validation accuracy:', model_boost.score(X_val, y_val))"
      ]
    },
    {
      "cell_type": "markdown",
      "metadata": {
        "deletable": false,
        "editable": false,
        "nbgrader": {
          "cell_type": "markdown",
          "checksum": "044f92b1e1321a290f39d2a3d4f756ed",
          "grade": false,
          "grade_id": "cell-17e8e5433e896bc5",
          "locked": true,
          "schema_version": 3,
          "solution": false,
          "task": false
        },
        "id": "swhZ2XnLiA7t"
      },
      "source": [
        "**Task 9 (`stretch_goal`):** Plot the ROC-curve for both of your models (you can plot them one-at-a-time, side-by-side, or in the same plot)."
      ]
    },
    {
      "cell_type": "code",
      "execution_count": 24,
      "metadata": {
        "deletable": false,
        "nbgrader": {
          "cell_type": "code",
          "checksum": "e4a418ccf53481f58016cf1828e973da",
          "grade": false,
          "grade_id": "cell-769e4a780bb22283",
          "locked": false,
          "schema_version": 3,
          "solution": true,
          "task": false
        },
        "colab": {
          "base_uri": "https://localhost:8080/",
          "height": 517
        },
        "id": "FBwzqTuaiA73",
        "outputId": "c8c8043b-f0a7-4d4f-dd89-8e2fb348741c"
      },
      "outputs": [
        {
          "output_type": "display_data",
          "data": {
            "text/plain": [
              "<Figure size 800x600 with 1 Axes>"
            ],
            "image/png": "[encoded data removed]"
          },
          "metadata": {}
        }
      ],
      "source": [
        "'''T9. Plot ROC-curve.'''\n",
        "# YOUR CODE HERE\n",
        "y_val_pred_bag = model_bag.predict_proba(X_val)[:, 1]\n",
        "\n",
        "# Generate predictions for boosting model\n",
        "y_val_pred_boost = model_boost.predict_proba(X_val)[:, 1]\n",
        "\n",
        "# Compute ROC curve for bagging model\n",
        "fpr_bag, tpr_bag, _ = roc_curve(y_val, y_val_pred_bag)\n",
        "\n",
        "# Compute ROC curve for boosting model\n",
        "fpr_boost, tpr_boost, _ = roc_curve(y_val, y_val_pred_boost)\n",
        "\n",
        "# Plot ROC curves\n",
        "plt.figure(figsize=(8, 6))\n",
        "plt.plot(fpr_bag, tpr_bag, label='Bagging Model (RandomForest)')\n",
        "plt.plot(fpr_boost, tpr_boost, label='Boosting Model (XGBClassifier)')\n",
        "plt.plot([0, 1], [0, 1], 'k--')  # Diagonal line for reference\n",
        "plt.xlabel('False Positive Rate')\n",
        "plt.ylabel('True Positive Rate')\n",
        "plt.title('ROC Curve')\n",
        "plt.legend()\n",
        "plt.grid(True)\n",
        "plt.show()"
      ]
    },
    {
      "cell_type": "markdown",
      "metadata": {
        "deletable": false,
        "editable": false,
        "nbgrader": {
          "cell_type": "markdown",
          "checksum": "c2a7559346e95bf6ecd31e90dcefd3be",
          "grade": false,
          "grade_id": "cell-1b8571c3a6a034f5",
          "locked": true,
          "schema_version": 3,
          "solution": false,
          "task": false
        },
        "id": "xBs_R9XLiA74"
      },
      "source": [
        "**Task 10:** Choose one of your models based on your validation accuracy score or your ROC curves. Then create a classification report for that model using your validation data. Save the text of the report to the variable name `model_cr`."
      ]
    },
    {
      "cell_type": "code",
      "execution_count": 25,
      "metadata": {
        "deletable": false,
        "nbgrader": {
          "cell_type": "code",
          "checksum": "2ef340cbc8ec53da648b929c0bab96ef",
          "grade": false,
          "grade_id": "cell-49891c4ce9bf5f37",
          "locked": false,
          "schema_version": 3,
          "solution": true,
          "task": false
        },
        "colab": {
          "base_uri": "https://localhost:8080/"
        },
        "id": "JksZOuvjiA74",
        "outputId": "bb985194-a7eb-4256-8243-068b97d28b92"
      },
      "outputs": [
        {
          "output_type": "stream",
          "name": "stdout",
          "text": [
            "              precision    recall  f1-score   support\n",
            "\n",
            "           0       0.72      0.95      0.82      7092\n",
            "           1       0.49      0.11      0.17      2997\n",
            "\n",
            "    accuracy                           0.70     10089\n",
            "   macro avg       0.60      0.53      0.50     10089\n",
            "weighted avg       0.65      0.70      0.63     10089\n",
            "\n"
          ]
        }
      ],
      "source": [
        "'''T10. Generate classification report for one model.'''\n",
        "from sklearn.metrics import classification_report\n",
        "chosen_model = model_boost  # Change this to model_bag if you prefer the bagging model\n",
        "\n",
        "# Generate predictions on validation data\n",
        "y_val_pred = chosen_model.predict(X_val)\n",
        "\n",
        "# Create a classification report\n",
        "model_cr = classification_report(y_val, y_val_pred)\n",
        "\n",
        "# Print the classification report\n",
        "print(model_cr)"
      ]
    },
    {
      "cell_type": "markdown",
      "metadata": {
        "deletable": false,
        "editable": false,
        "nbgrader": {
          "cell_type": "markdown",
          "checksum": "103296abc9f51aa4b883c35c418275cc",
          "grade": false,
          "grade_id": "cell-7b5374efd0e40c69",
          "locked": true,
          "schema_version": 3,
          "solution": false,
          "task": false
        },
        "id": "wYFuGpw3iA74"
      },
      "source": [
        "**Task 10 Testing**"
      ]
    },
    {
      "cell_type": "code",
      "execution_count": 26,
      "metadata": {
        "deletable": false,
        "editable": false,
        "nbgrader": {
          "cell_type": "code",
          "checksum": "110853de9aaaba37cb2fe601091b1e7d",
          "grade": true,
          "grade_id": "cell-94e04c938f3f5f84",
          "locked": true,
          "points": 1,
          "schema_version": 3,
          "solution": false,
          "task": false
        },
        "id": "oTKLoqZjiA75"
      },
      "outputs": [],
      "source": [
        "assert isinstance(model_cr, str), '`model_cr` should be type `str`.'\n",
        "assert all(term in model_cr for term in ['precision', 'recall', 'f1-score', 'support']), 'Is this a classification report?'"
      ]
    },
    {
      "cell_type": "markdown",
      "metadata": {
        "deletable": false,
        "editable": false,
        "nbgrader": {
          "cell_type": "markdown",
          "checksum": "00449a4317e9b4d383f2ca7d58a2b0af",
          "grade": false,
          "grade_id": "cell-d2b4843352d3085a",
          "locked": true,
          "schema_version": 3,
          "solution": false,
          "task": false
        },
        "id": "i3oz7M5siA75"
      },
      "source": [
        "**Task 11:** Using your best model, create a DataFrame `permutation_importances` with the model's permutation importances based on your validation data.\n",
        "\n",
        "- The index of the DataFrame should be your feature names.\n",
        "- The first column should be the mean importance.\n",
        "- The second column should be the importance standard deviation."
      ]
    },
    {
      "cell_type": "code",
      "execution_count": 27,
      "metadata": {
        "deletable": false,
        "nbgrader": {
          "cell_type": "code",
          "checksum": "f8e984b2a5083b74b7eb0abec46f8d63",
          "grade": false,
          "grade_id": "cell-72936eec6980072b",
          "locked": false,
          "schema_version": 3,
          "solution": true,
          "task": false
        },
        "colab": {
          "base_uri": "https://localhost:8080/"
        },
        "id": "BTaE_F5ZiA75",
        "outputId": "38eba7eb-ee94-4b66-ac75-409a9cc2d722"
      },
      "outputs": [
        {
          "output_type": "stream",
          "name": "stdout",
          "text": [
            "                 mean_importance  std_importance\n",
            "Inspection Type         0.013639        0.001912\n",
            "Latitude                0.007246        0.001779\n",
            "Longitude               0.004440        0.002202\n",
            "Zip                     0.003687        0.001253\n",
            "Facility Type           0.003390        0.001313\n",
            "Risk                    0.001467        0.000762\n",
            "City                    0.000010        0.000136\n",
            "(7, 2)\n"
          ]
        }
      ],
      "source": [
        "'''T11. Create DataFrame of permutation importances.'''\n",
        "# YOUR CODE HERE\n",
        "from sklearn.inspection import permutation_importance\n",
        "\n",
        "# Assuming chosen_model, X_val, and y_val are already defined and available\n",
        "result = permutation_importance(chosen_model, X_val, y_val, n_repeats=10, random_state=42)\n",
        "\n",
        "# Create a DataFrame for permutation importances\n",
        "permutation_importances = pd.DataFrame({\n",
        "    'mean_importance': result['importances_mean'],\n",
        "    'std_importance': result['importances_std']\n",
        "}, index=X_val.columns)\n",
        "\n",
        "# Select the top 7 features based on mean importance\n",
        "permutation_importances = permutation_importances.nlargest(7, 'mean_importance')\n",
        "\n",
        "# Ensure the DataFrame has the desired shape\n",
        "assert permutation_importances.shape == (7, 2), \"The shape of permutation_importances is not (7, 2).\"\n",
        "\n",
        "# Display the permutation importances DataFrame\n",
        "print(permutation_importances)\n",
        "\n",
        "# Display the shape to verify\n",
        "print(permutation_importances.shape)"
      ]
    },
    {
      "cell_type": "markdown",
      "metadata": {
        "deletable": false,
        "editable": false,
        "nbgrader": {
          "cell_type": "markdown",
          "checksum": "dccb1015d0f5c2f8b23f780eb8e4abf7",
          "grade": false,
          "grade_id": "cell-9eb949d189e401bc",
          "locked": true,
          "schema_version": 3,
          "solution": false,
          "task": false
        },
        "id": "8z60_j3FiA76"
      },
      "source": [
        "**Task 11 Testing**"
      ]
    },
    {
      "cell_type": "code",
      "execution_count": 29,
      "metadata": {
        "deletable": false,
        "editable": false,
        "nbgrader": {
          "cell_type": "code",
          "checksum": "d84e55cd6e77a52c576972ab68477c90",
          "grade": true,
          "grade_id": "cell-a4d8990e7070c2dd",
          "locked": true,
          "points": 1,
          "schema_version": 3,
          "solution": false,
          "task": false
        },
        "id": "DhovphoyiA76"
      },
      "outputs": [],
      "source": [
        "'''Task 11 Test'''\n",
        "assert isinstance(permutation_importances, pd.DataFrame), '`permutation_importances` should be type `DataFrame`.'\n",
        "assert permutation_importances.shape == (7,2)"
      ]
    },
    {
      "cell_type": "markdown",
      "metadata": {
        "deletable": false,
        "editable": false,
        "nbgrader": {
          "cell_type": "markdown",
          "checksum": "f005618a5eb29cde9fbc73ab717b0e1c",
          "grade": false,
          "grade_id": "cell-3d8938c1715a596d",
          "locked": true,
          "schema_version": 3,
          "solution": false,
          "task": false
        },
        "id": "I6kP_YMYiA77"
      },
      "source": [
        "**Task 12 (`stretch goal`):** Using your best model, create a PDP interaction plot to examine how `'Latitude'` and `'Longitude'` inform predictions. Remember to user your validation data.\n",
        "\n",
        "**Note:** Because of the way that `pdp_interact` works, it will throw an error if there are `NaN` values in your validation set. To avoid this problem, be sure to set `dataset` to `X_val.dropna()`."
      ]
    },
    {
      "cell_type": "code",
      "execution_count": 30,
      "metadata": {
        "deletable": false,
        "nbgrader": {
          "cell_type": "code",
          "checksum": "ea5a8422d2efafe17ee63a77c5db1e41",
          "grade": false,
          "grade_id": "cell-224d3b408f9bdd88",
          "locked": false,
          "schema_version": 3,
          "solution": true,
          "task": false
        },
        "colab": {
          "base_uri": "https://localhost:8080/",
          "height": 482
        },
        "id": "UjgX3OF8iA77",
        "outputId": "cc6f6002-3c04-40c8-bc0e-0270a0848aa3"
      },
      "outputs": [
        {
          "output_type": "display_data",
          "data": {
            "text/plain": [
              "<Figure size 1200x800 with 3 Axes>"
            ],
            "image/png": "[encoded data removed]"
          },
          "metadata": {}
        }
      ],
      "source": [
        "'''T12. Create PDP interaction plot for \"Latitude\" and \"Longitude\".'''\n",
        "\n",
        "X_val_no_na = X_val.dropna()\n",
        "\n",
        "# Define the features for the interaction plot\n",
        "features = ['Latitude', 'Longitude']\n",
        "\n",
        "# Create the PDP interaction plot\n",
        "fig, ax = plt.subplots(figsize=(12, 8))\n",
        "plot_partial_dependence(\n",
        "    estimator=chosen_model,  # Use your chosen model here\n",
        "    X=X_val_no_na,\n",
        "    features=features,\n",
        "    grid_resolution=50,\n",
        "    ax=ax  # Use ax to plot on the same figure\n",
        ")\n",
        "\n",
        "plt.suptitle('PDP Interaction Plot')\n",
        "plt.subplots_adjust(top=0.9)  # Adjust the top margin for the title\n",
        "plt.show()"
      ]
    },
    {
      "cell_type": "markdown",
      "metadata": {
        "deletable": false,
        "editable": false,
        "nbgrader": {
          "cell_type": "markdown",
          "checksum": "0455e5a041c95c4c194165e5efb83538",
          "grade": false,
          "grade_id": "cell-60908df556f5057e",
          "locked": true,
          "schema_version": 3,
          "solution": false,
          "task": false
        },
        "id": "NGjLBbGDiA78"
      },
      "source": [
        "What do you think? Is there a relationship between location and failing a food saftey inspection? Answer below.\n",
        "\n",
        "This task will not be autograded - but it is part of completing the challenge."
      ]
    },
    {
      "cell_type": "markdown",
      "source": [
        "By examining the PDP interaction plot, we can identify specific geographic areas that are more prone to failing food safety inspections. This information is valuable for targeting interventions and improving food safety practices in higher-risk locations.If the PDP interaction plot shows clear variations based on latitude and longitude, it supports the hypothesis that there is a relationship between location and the likelihood of failing a food safety inspection. On the other hand, if the plot is relatively flat and shows little variation, it would suggest that location might not be a significant factor in failing the inspections.Without the exact plot at hand, these general guidelines should help you interpret the results and draw meaningful conclusions about the relationship between location and food safety inspection outcomes."
      ],
      "metadata": {
        "id": "LK81wLMy8HL_"
      }
    }
  ],
  "metadata": {
    "kernelspec": {
      "display_name": "Python 3",
      "language": "python",
      "name": "python3"
    },
    "language_info": {
      "codemirror_mode": {
        "name": "ipython",
        "version": 3
      },
      "file_extension": ".py",
      "mimetype": "text/x-python",
      "name": "python",
      "nbconvert_exporter": "python",
      "pygments_lexer": "ipython3",
      "version": "3.8.8"
    },
    "colab": {
      "provenance": []
    }
  },
  "nbformat": 4,
  "nbformat_minor": 0
}